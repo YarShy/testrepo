{
 "cells": [
  {
   "cell_type": "markdown",
   "metadata": {},
   "source": [
    "<center>\n",
    "    <img src=\"https://s3-api.us-geo.objectstorage.softlayer.net/cf-courses-data/CognitiveClass/Logos/organization_logo/organization_logo.png\" width=\"300\" alt=\"cognitiveclass.ai logo\"  />\n",
    "</center>\n"
   ]
  },
  {
   "cell_type": "markdown",
   "metadata": {
    "tags": []
   },
   "source": [
    "# My Jupyter Notebook on IBM Watson Studio\n"
   ]
  },
  {
   "cell_type": "markdown",
   "metadata": {},
   "source": [
    "**Yarjan Shyhyyev** \\\n",
    "I am Data Science student at the TU Wien university.\n"
   ]
  },
  {
   "cell_type": "markdown",
   "metadata": {},
   "source": [
    "*I am interested in data science because I am pasionate about data, and makes me feel powerful. In addition, working with data I am enjoying problem-solving and statistical analysis tasks.*"
   ]
  },
  {
   "cell_type": "markdown",
   "metadata": {},
   "source": [
    "### x is given below, and we are going to write a simple code when input value is positive, negative or zero. Let's implement the code below."
   ]
  },
  {
   "cell_type": "code",
   "execution_count": 9,
   "metadata": {},
   "outputs": [
    {
     "name": "stdout",
     "output_type": "stream",
     "text": [
      "positive\n"
     ]
    }
   ],
   "source": [
    "x = 2.2\n",
    "if x<0 :\n",
    "    print(\"negative\")\n",
    "elif x>0 :\n",
    "    print(\"positive\")\n",
    "else:\n",
    "    print('zero')\n",
    "    "
   ]
  },
  {
   "cell_type": "markdown",
   "metadata": {},
   "source": [
    "1. Outline\n",
    "2. Introduction\n",
    "..* Brief history of the ESP pumps\n",
    "1. `Calculation` of the motor power\n",
    "2. Selection of the `Cable` size\n",
    "3. Selection of the `Pump` type\n",
    "\n",
    "```javascript\n",
    "var s = \"All the calculation made in Java code\";\n",
    "alert(s);\n",
    "```\n",
    "\n",
    "\n",
    "Summary of the results:\n",
    "\n",
    "| Pump model    | Motor power   | Pump  |\n",
    "| ------------- |:-------------:| -----:|\n",
    "| TH-150-4      | 1000          |   30  |\n",
    "| TH-160-8      | 1800          |   12  |\n",
    "| TH-220-3      | 2500          |   25  |\n"
   ]
  },
  {
   "cell_type": "code",
   "execution_count": null,
   "metadata": {},
   "outputs": [],
   "source": []
  }
 ],
 "metadata": {
  "kernelspec": {
   "display_name": "Python",
   "language": "python",
   "name": "conda-env-python-py"
  },
  "language_info": {
   "codemirror_mode": {
    "name": "ipython",
    "version": 3
   },
   "file_extension": ".py",
   "mimetype": "text/x-python",
   "name": "python",
   "nbconvert_exporter": "python",
   "pygments_lexer": "ipython3",
   "version": "3.7.12"
  }
 },
 "nbformat": 4,
 "nbformat_minor": 4
}
